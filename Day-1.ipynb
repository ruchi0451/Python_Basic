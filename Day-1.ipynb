{
 "cells": [
  {
   "cell_type": "markdown",
   "id": "addf93b9",
   "metadata": {},
   "source": [
    "# DAY 1"
   ]
  },
  {
   "cell_type": "markdown",
   "id": "192fa28c",
   "metadata": {},
   "source": [
    "# Data Types"
   ]
  },
  {
   "cell_type": "markdown",
   "id": "7a1b91d3",
   "metadata": {},
   "source": [
    "# Write a program in Jupyter Notebook to declare variables of different data types (integer, float, string, and boolean). Print each variable and its type."
   ]
  },
  {
   "cell_type": "code",
   "execution_count": 4,
   "id": "68e8d8d0",
   "metadata": {},
   "outputs": [
    {
     "name": "stdout",
     "output_type": "stream",
     "text": [
      "<class 'str'>\n",
      "<class 'int'>\n",
      "<class 'float'>\n",
      "<class 'str'>\n"
     ]
    }
   ],
   "source": [
    "num_String = 'Ruchi'\n",
    "num_int = 12\n",
    "num_float = 0.33\n",
    "boolean_num='True'\n",
    "print(type(num_String))\n",
    "print(type(num_int))\n",
    "print(type(num_float))\n",
    "print(type(boolean_num))\n"
   ]
  },
  {
   "cell_type": "code",
   "execution_count": 3,
   "id": "b7b9c965",
   "metadata": {},
   "outputs": [
    {
     "name": "stdout",
     "output_type": "stream",
     "text": [
      "<class 'str'>\n",
      "<class 'int'>\n",
      "<class 'float'>\n",
      "<class 'str'>\n"
     ]
    }
   ],
   "source": [
    "String_var=\"Ruchi\"\n",
    "int_var=6\n",
    "float_var=0.61\n",
    "boolean_var='True'\n",
    "print(type(String_var))\n",
    "print(type(int_var))\n",
    "print(type(float_var))\n",
    "print(type(boolean_var))"
   ]
  },
  {
   "cell_type": "code",
   "execution_count": null,
   "id": "0427d953",
   "metadata": {},
   "outputs": [],
   "source": []
  }
 ],
 "metadata": {
  "kernelspec": {
   "display_name": "Python 3 (ipykernel)",
   "language": "python",
   "name": "python3"
  },
  "language_info": {
   "codemirror_mode": {
    "name": "ipython",
    "version": 3
   },
   "file_extension": ".py",
   "mimetype": "text/x-python",
   "name": "python",
   "nbconvert_exporter": "python",
   "pygments_lexer": "ipython3",
   "version": "3.9.13"
  }
 },
 "nbformat": 4,
 "nbformat_minor": 5
}

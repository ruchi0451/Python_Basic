{
 "cells": [
  {
   "cell_type": "code",
   "execution_count": 1,
   "id": "4a6460d9",
   "metadata": {},
   "outputs": [
    {
     "name": "stdout",
     "output_type": "stream",
     "text": [
      "Enter a text for NER:  Apple Inc. is looking at buying a UK startup for $1 billion in 2025.\n",
      "\n",
      "Named Entities and their Types:\n",
      "Apple Inc. (ORG)\n",
      "UK (GPE)\n",
      "$1 billion (MONEY)\n",
      "2025 (DATE)\n"
     ]
    }
   ],
   "source": [
    "import spacy\n",
    "\n",
    "def perform_ner(text):\n",
    "    \"\"\"Perform Named Entity Recognition (NER) on the given text.\"\"\"\n",
    "   \n",
    "    nlp = spacy.load(\"en_core_web_sm\")\n",
    "\n",
    "   \n",
    "    doc = nlp(text)\n",
    "\n",
    "\n",
    "    print(\"\\nNamed Entities and their Types:\")\n",
    "    for entity in doc.ents:\n",
    "        print(f\"{entity.text} ({entity.label_})\")\n",
    "\n",
    "def main():\n",
    "    text = input(\"Enter a text for NER: \")\n",
    "    perform_ner(text)\n",
    "\n",
    "if __name__ == \"__main__\":\n",
    "    main()\n"
   ]
  },
  {
   "cell_type": "code",
   "execution_count": null,
   "id": "bcfaab0f",
   "metadata": {},
   "outputs": [],
   "source": []
  }
 ],
 "metadata": {
  "kernelspec": {
   "display_name": "Python 3 (ipykernel)",
   "language": "python",
   "name": "python3"
  },
  "language_info": {
   "codemirror_mode": {
    "name": "ipython",
    "version": 3
   },
   "file_extension": ".py",
   "mimetype": "text/x-python",
   "name": "python",
   "nbconvert_exporter": "python",
   "pygments_lexer": "ipython3",
   "version": "3.9.13"
  }
 },
 "nbformat": 4,
 "nbformat_minor": 5
}

{
 "cells": [
  {
   "cell_type": "code",
   "execution_count": 13,
   "id": "9d2c77a1",
   "metadata": {},
   "outputs": [
    {
     "name": "stdout",
     "output_type": "stream",
     "text": [
      "Enter the path to the text file: C:\\\\Users\\\\ruchi\\\\OneDrive\\\\Documents\\\\sample.txt\n",
      "\n",
      "Top 5 most frequent tokens:\n",
      "the: 10\n",
      "fox: 4\n",
      "dog: 4\n",
      "quick: 1\n",
      "brown: 1\n"
     ]
    }
   ],
   "source": [
    "from collections import Counter\n",
    "import re\n",
    "\n",
    "def load_text_file(file_path):\n",
    "    \"\"\"Load text from a file.\"\"\"\n",
    "    try:\n",
    "        with open(file_path, 'r', encoding='utf-8') as file:\n",
    "            return file.read()\n",
    "    except FileNotFoundError:\n",
    "        print(\"Error: File not found. Please check the path and try again.\")\n",
    "        return None\n",
    "    except Exception as e:\n",
    "        print(f\"Error reading the file: {e}\")\n",
    "        return None\n",
    "\n",
    "def tokenize_text(text):\n",
    "    \"\"\"Tokenize text by splitting on non-alphanumeric characters.\"\"\"\n",
    "    return re.findall(r'\\b\\w+\\b', text.lower())\n",
    "\n",
    "def calculate_term_frequency(tokens):\n",
    "    \"\"\"Calculate the term frequency of each token.\"\"\"\n",
    "    return Counter(tokens)\n",
    "\n",
    "def display_top_tokens(tf_counter, top_n=5):\n",
    "    \"\"\"Display the top N most frequent tokens.\"\"\"\n",
    "    print(f\"\\nTop {top_n} most frequent tokens:\")\n",
    "    for token, frequency in tf_counter.most_common(top_n):\n",
    "        print(f\"{token}: {frequency}\")\n",
    "\n",
    "def main():\n",
    "    file_path = input(\"Enter the path to the text file: \")\n",
    "    text_content = load_text_file(file_path)\n",
    "    \n",
    "    if text_content:\n",
    "        tokens = tokenize_text(text_content)\n",
    "        tf_counter = calculate_term_frequency(tokens)\n",
    "        display_top_tokens(tf_counter)\n",
    "\n",
    "if __name__ == \"__main__\":\n",
    "    main()\n"
   ]
  },
  {
   "cell_type": "code",
   "execution_count": null,
   "id": "9afbdc00",
   "metadata": {},
   "outputs": [],
   "source": []
  },
  {
   "cell_type": "code",
   "execution_count": null,
   "id": "d6e838e9",
   "metadata": {},
   "outputs": [],
   "source": []
  }
 ],
 "metadata": {
  "kernelspec": {
   "display_name": "Python 3 (ipykernel)",
   "language": "python",
   "name": "python3"
  },
  "language_info": {
   "codemirror_mode": {
    "name": "ipython",
    "version": 3
   },
   "file_extension": ".py",
   "mimetype": "text/x-python",
   "name": "python",
   "nbconvert_exporter": "python",
   "pygments_lexer": "ipython3",
   "version": "3.9.13"
  }
 },
 "nbformat": 4,
 "nbformat_minor": 5
}

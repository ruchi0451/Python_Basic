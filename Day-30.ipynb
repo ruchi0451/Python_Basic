{
 "cells": [
  {
   "cell_type": "code",
   "execution_count": 2,
   "id": "e9422914",
   "metadata": {},
   "outputs": [
    {
     "name": "stdout",
     "output_type": "stream",
     "text": [
      "Enter a text for sentiment analysis: I love programming with Python!\n",
      "\n",
      "Text: \"I love programming with Python!\"\n",
      "Sentiment Score: 0.62\n",
      "Sentiment: Positive\n"
     ]
    }
   ],
   "source": [
    "from textblob import TextBlob\n",
    "\n",
    "def analyze_sentiment(text):\n",
    "  \n",
    "    blob = TextBlob(text)\n",
    "    sentiment_score = blob.sentiment.polarity\n",
    "\n",
    "    if sentiment_score > 0:\n",
    "        sentiment = \"Positive\"\n",
    "    elif sentiment_score < 0:\n",
    "        sentiment = \"Negative\"\n",
    "    else:\n",
    "        sentiment = \"Neutral\"\n",
    "\n",
    "    print(f\"\\nText: \\\"{text}\\\"\")\n",
    "    print(f\"Sentiment Score: {sentiment_score:.2f}\")\n",
    "    print(f\"Sentiment: {sentiment}\")\n",
    "\n",
    "def main():\n",
    "    text = input(\"Enter a text for sentiment analysis: \")\n",
    "    analyze_sentiment(text)\n",
    "\n",
    "if __name__ == \"__main__\":\n",
    "    main()\n"
   ]
  },
  {
   "cell_type": "code",
   "execution_count": null,
   "id": "7e6efebd",
   "metadata": {},
   "outputs": [],
   "source": []
  }
 ],
 "metadata": {
  "kernelspec": {
   "display_name": "Python 3 (ipykernel)",
   "language": "python",
   "name": "python3"
  },
  "language_info": {
   "codemirror_mode": {
    "name": "ipython",
    "version": 3
   },
   "file_extension": ".py",
   "mimetype": "text/x-python",
   "name": "python",
   "nbconvert_exporter": "python",
   "pygments_lexer": "ipython3",
   "version": "3.9.13"
  }
 },
 "nbformat": 4,
 "nbformat_minor": 5
}
